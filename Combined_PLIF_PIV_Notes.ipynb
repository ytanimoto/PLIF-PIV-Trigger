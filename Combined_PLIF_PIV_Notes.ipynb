{
 "cells": [
  {
   "cell_type": "markdown",
   "id": "disciplinary-testament",
   "metadata": {},
   "source": [
    "# Galvanometer Scanner and Dual Triggering"
   ]
  },
  {
   "cell_type": "markdown",
   "id": "brilliant-compensation",
   "metadata": {},
   "source": [
    "## Introduction"
   ]
  },
  {
   "cell_type": "markdown",
   "id": "reported-processor",
   "metadata": {},
   "source": [
    "Code to generate the scanning mirror analog voltage signal, and digital triggers for synchronized camera triggering for simulaneous PIV (particle image velocimetry) and PLIF (planar laser induced fluorescence). This code requires \n",
    "- MATLAB\n",
    "- DAQ with analog and digital outputs\n",
    "- galvanometer scanner that can be controlled by an analog signal\n",
    "- two cameras that can be externally triggered\n",
    "\n",
    "and will generate two laser sweeps for the image. During the first sweep the PIV image is captured, and during the second sweep, both PIV and PLIF images are captured. "
   ]
  },
  {
   "cell_type": "markdown",
   "id": "southeast-development",
   "metadata": {},
   "source": [
    "## Setting up the DAQ and Measurement Parameters"
   ]
  },
  {
   "cell_type": "markdown",
   "id": "wrong-intent",
   "metadata": {},
   "source": [
    "First identify the DAQ to be used \n",
    "\n",
    "```matlab\n",
    "d = daqlist;\n",
    "d{1, \"DeviceInfo\"}\n",
    "dq = daq(\"ni\");\n",
    "\n",
    "addoutput(dq, \"Dev1\", \"ao1\", \"Voltage\");\n",
    "ctr=addoutput(dq,\"Dev1\",\"ctr0\",\"PulseGeneration\");\n",
    "```"
   ]
  },
  {
   "cell_type": "markdown",
   "id": "mexican-meter",
   "metadata": {},
   "source": [
    "Specify parameters for the lightsheet duration, exposure time, frequency and starting and end angles of the sheet."
   ]
  },
  {
   "cell_type": "code",
   "execution_count": null,
   "id": "editorial-scratch",
   "metadata": {},
   "outputs": [],
   "source": [
    "PLIF_fps=7.5; % hz, frequency of the PLIF\n",
    "PLIF_Tint=8; % ms, light sheet duration\n",
    "PLIF_EXE=63; % ms, as determined by the camera\n",
    "dt=1.5; % ms, between PIV signals\n",
    "\n",
    "PLIF_right=-20; % deg, on the right\n",
    "PLIF_left=15;   % deg, on the left\n",
    "PLIF_A=2;       % the laser will \"rest\" at a location offset by this value\n",
    "Tpost=2; % post sweep delay [ms] typically small (2ms)\n",
    "\n",
    "%% total number of images \n",
    "nimg=7.5*500;"
   ]
  },
  {
   "cell_type": "markdown",
   "id": "stainless-conditions",
   "metadata": {},
   "source": [
    "The signal is then built according the form given in\n",
    ">Crimaldi, J., Koseff, J. High-resolution measurements of the spatial and temporal scalar structure of a turbulent plume. _Experiments in Fluids_ **31**, 90–102 (2001). https://doi.org/10.1007/s003480000263"
   ]
  },
  {
   "cell_type": "code",
   "execution_count": null,
   "id": "million-things",
   "metadata": {},
   "outputs": [],
   "source": [
    "%% start building the signal\n",
    "\n",
    "PLIF_NLEN=12000; % number of signals per cycle\n",
    "sps=PLIF_NLEN*PLIF_fps; %full number of signals\n",
    "\n",
    "PLIF_N=PLIF_Tint/1000*sps; %signals per light sheet\n",
    "i=1:PLIF_N; % length of mirror signal, dictated\n",
    "\n",
    "VPD=20/60; %volts/deg\n",
    "%%%compose PLIF mirror signal\n",
    "PLIF_A_tot=PLIF_right-PLIF_left+2*PLIF_A;\n",
    "PLIF_M=(atan(((i-PLIF_N/2)/(PLIF_N-1))*2*tan(pi*PLIF_A_tot*.5/180))*180+(PLIF_right+PLIF_left))*VPD/pi;\n",
    "[rm ri]=min(abs(PLIF_M/VPD-PLIF_right));\n",
    "[lm li]=min(abs(PLIF_M/VPD-PLIF_left));\n",
    "\n",
    "%%%convert dt to #of signals\n",
    "N_dt=floor(dt*.001*sps);\n",
    "N_Tpost=floor(Tpost*.001*sps);\n",
    "N_PIV_exp=floor(PLIF_Tint*.001*sps);\n",
    "\n",
    "% PLIF_NLEN is signals per period defined by PLIF_fps\n",
    "i_mid=floor(0.5*PLIF_NLEN); % this index the start of the second image/end of first\n",
    "%offset=200;\n",
    "offset=-20;\n",
    "\n",
    "% define start and end points in time\n",
    "im1_start=1;     im1_end=floor(PLIF_EXE/1e3*sps); \n",
    "im2_start=i_mid; im2_end=i_mid+floor(PLIF_EXE/1e3*sps);\n",
    "\n",
    "piv1_end=im1_end-offset;\n",
    "piv1_start=piv1_end-PLIF_N+1;\n",
    "\n",
    "piv2_start=piv1_end+N_dt;\n",
    "piv2_end=piv2_start+PLIF_N-1;\n",
    "\n",
    "% msig is the signal sent to the galvo\n",
    "msig=ones(1,PLIF_NLEN)*(min(PLIF_M)-2.0);\n",
    "msig(piv1_start:piv1_end)=PLIF_M;\n",
    "msig(piv2_start:piv2_end)=PLIF_M;\n",
    " \n",
    "SL=length(msig); % signal length\n",
    "\n",
    "fprintf('min PLIF exposure time \\t = %5.3f (ms) \\n',(piv1_end-piv1_start)/sps*1e3);\n",
    "fprintf('min PIV exposure time \\t = %5.3f (ms) \\n',PLIF_EXE);\n",
    "fprintf('number of cycles per second \\t = %2.2f (Hz) \\n',sps/SL);\n",
    "fprintf('dt between images \\t = %2.2f (ms)\\n',(piv2_start-piv1_end)/sps*1e3);"
   ]
  },
  {
   "cell_type": "markdown",
   "id": "young-deviation",
   "metadata": {},
   "source": [
    "To illustrate the timings for the cameras, we can also build the signal of the counter, although is this really automated by the pulse generator built into the DAQ."
   ]
  },
  {
   "cell_type": "code",
   "execution_count": null,
   "id": "existing-springfield",
   "metadata": {
    "scrolled": true
   },
   "outputs": [],
   "source": [
    "%% csig and imsg are just generated for the plots, and not sent to the daq\n",
    "csig=msig*0;\n",
    "toff=0;\n",
    "cv=5; % voltage for the counter to be plotted at\n",
    "ioff=0;\n",
    "\n",
    "csig(ioff+piv1_start:ioff+piv1_end-toff)=cv;\n",
    "csig(ioff+piv2_start:ioff+piv2_end-toff)=cv;\n",
    "\n",
    "imsg=msig*0;\n",
    "imsg(im1_start:im1_end)=cv+1;\n",
    "imsg(im2_start:im2_end)=cv+1;\n",
    "\n",
    "showplot=1;\n",
    "if(showplot)\n",
    "    p(1)=plot((1:length(msig))/sps,msig,'k'); %MIRROR SIGNAL\n",
    "    hold on;\n",
    "    p(2)=plot((1:length(msig))/sps,csig,'r'); % sheet duration\n",
    "    p(3)=plot((1:length(msig))/sps,imsg,'g'); %\n",
    "    \n",
    "    hold on\n",
    "    plot(piv1_start/sps,0,'or');\n",
    "    plot(piv1_end/sps,0,'xr');\n",
    "    \n",
    "    plot(piv2_start/sps,0,'ob');\n",
    "    plot(piv2_end/sps,0,'xb');\n",
    "    ylim([-10 10]);\n",
    "    \n",
    "    ylabel('voltage');\n",
    "    xlabel('s');\n",
    "    legend(p,{'mirror signal','sheet duration','PIV image'});\n",
    "    \n",
    "end"
   ]
  },
  {
   "cell_type": "markdown",
   "id": "standing-journalism",
   "metadata": {},
   "source": [
    "Notice that the signal is centered at t=1/15=66.67 miliseconds. The cameras are essentially always triggered at 15 Hz, and the light sweeps are made at the end of one image, and the beginning of the next. The PIV camera settings should be aligned with the green boxes, and the PLIF camera should be set to record only the second sweep. These settings will maximize the brightness of the images."
   ]
  },
  {
   "cell_type": "markdown",
   "id": "unnecessary-constant",
   "metadata": {},
   "source": [
    "## Output to DAQ"
   ]
  },
  {
   "cell_type": "markdown",
   "id": "absolute-massage",
   "metadata": {},
   "source": [
    "If the plot of the signals look good, then replicate the signal `msig` by nimg, and load the analog and digital signals onto the daq. The signal of the counter should be meausred by an oscilloscope to ensure the frequency of the pulses."
   ]
  },
  {
   "cell_type": "code",
   "execution_count": null,
   "id": "grateful-constraint",
   "metadata": {
    "scrolled": true
   },
   "outputs": [],
   "source": [
    "%% Prepare the signal for the DAQ\n",
    "\n",
    "% if the signal needs offsetting, use nz\n",
    "nz=0;\n",
    "\n",
    "S(1,1:length(msig))=msig;\n",
    "output= [ones(1,nz)*(min(PLIF_M)-2) repmat(S,1,nimg)]';\n",
    "dq.Rate = sps; % adjust DAQ rate based on signal length\n",
    "\n",
    "% the CTR HAS AN OFFSET OF 0.01515 Hz for some reason\n",
    "ctr.Frequency=PLIF_fps*2+0.015015;\n",
    "toff=0;\n",
    "ctr.InitialDelay=toff/1e3;\n",
    "ctr.DutyCycle=0.1;"
   ]
  },
  {
   "cell_type": "markdown",
   "id": "annual-calgary",
   "metadata": {},
   "source": [
    "When ready, flush the DAQ, preload the signal, and wait for a keyboard input to trigger the lightsheet and cameras.\n",
    "```matlab\n",
    "%load the signal to the DAQ, and await go signal\n",
    "flush(dq)\n",
    "preload(dq,output);\n",
    "pause()\n",
    "start(dq);\n",
    "```"
   ]
  }
 ],
 "metadata": {
  "kernelspec": {
   "display_name": "Matlab",
   "language": "matlab",
   "name": "matlab"
  },
  "language_info": {
   "codemirror_mode": "octave",
   "file_extension": ".m",
   "help_links": [
    {
     "text": "MetaKernel Magics",
     "url": "https://metakernel.readthedocs.io/en/latest/source/README.html"
    }
   ],
   "mimetype": "text/x-octave",
   "name": "matlab",
   "version": "0.16.11"
  }
 },
 "nbformat": 4,
 "nbformat_minor": 5
}
